{
  "nbformat": 4,
  "nbformat_minor": 0,
  "metadata": {
    "kernelspec": {
      "display_name": "Python [conda env:mie451-lab3]",
      "language": "python",
      "name": "conda-env-mie451-lab3-py"
    },
    "language_info": {
      "codemirror_mode": {
        "name": "ipython",
        "version": 3
      },
      "file_extension": ".py",
      "mimetype": "text/x-python",
      "name": "python",
      "nbconvert_exporter": "python",
      "pygments_lexer": "ipython3",
      "version": "3.6.6"
    },
    "colab": {
      "name": "lab3.ipynb",
      "provenance": [],
      "collapsed_sections": [
        "lRb5SpIdtPS7",
        "t5RtEaMltPTO"
      ],
      "toc_visible": true
    }
  },
  "cells": [
    {
      "cell_type": "markdown",
      "metadata": {
        "id": "rsLfOVcOtPSH",
        "colab_type": "text"
      },
      "source": [
        "# Lab 3: IR"
      ]
    },
    {
      "cell_type": "markdown",
      "metadata": {
        "id": "Tkl3Xh-h2IBd",
        "colab_type": "text"
      },
      "source": [
        "## Install, import modules and download dataset"
      ]
    },
    {
      "cell_type": "code",
      "metadata": {
        "id": "1iecxlriuhuA",
        "colab_type": "code",
        "colab": {
          "base_uri": "https://localhost:8080/",
          "height": 400
        },
        "outputId": "c3c7ea56-3ee2-4192-c002-3e97f561e2bb"
      },
      "source": [
        "!pip install whoosh\n",
        "!pip install pytrec_eval\n",
        "!pip install wget"
      ],
      "execution_count": 4,
      "outputs": [
        {
          "output_type": "stream",
          "text": [
            "Collecting whoosh\n",
            "\u001b[?25l  Downloading https://files.pythonhosted.org/packages/ba/19/24d0f1f454a2c1eb689ca28d2f178db81e5024f42d82729a4ff6771155cf/Whoosh-2.7.4-py2.py3-none-any.whl (468kB)\n",
            "\u001b[K     |████████████████████████████████| 471kB 2.9MB/s \n",
            "\u001b[?25hInstalling collected packages: whoosh\n",
            "Successfully installed whoosh-2.7.4\n",
            "Collecting pytrec_eval\n",
            "  Downloading https://files.pythonhosted.org/packages/2e/03/e6e84df6a7c1265579ab26bbe30ff7f8c22745aa77e0799bba471c0a3a19/pytrec_eval-0.5.tar.gz\n",
            "Building wheels for collected packages: pytrec-eval\n",
            "  Building wheel for pytrec-eval (setup.py) ... \u001b[?25l\u001b[?25hdone\n",
            "  Created wheel for pytrec-eval: filename=pytrec_eval-0.5-cp36-cp36m-linux_x86_64.whl size=263967 sha256=f6c4265a582c989cee141dcf39232f409d72c063cf16cc1c1e4137d4f33aedfa\n",
            "  Stored in directory: /root/.cache/pip/wheels/55/66/40/1779aa0a8eb66e088669befe286f695cdfe420ba91ce662127\n",
            "Successfully built pytrec-eval\n",
            "Installing collected packages: pytrec-eval\n",
            "Successfully installed pytrec-eval-0.5\n",
            "Collecting wget\n",
            "  Downloading https://files.pythonhosted.org/packages/47/6a/62e288da7bcda82b935ff0c6cfe542970f04e29c756b0e147251b2fb251f/wget-3.2.zip\n",
            "Building wheels for collected packages: wget\n",
            "  Building wheel for wget (setup.py) ... \u001b[?25l\u001b[?25hdone\n",
            "  Created wheel for wget: filename=wget-3.2-cp36-none-any.whl size=9682 sha256=f5b38819031faa67bab4e5d4085feb84317c1d67ec63c1b0056380da60e6c35b\n",
            "  Stored in directory: /root/.cache/pip/wheels/40/15/30/7d8f7cea2902b4db79e3fea550d7d7b85ecb27ef992b618f3f\n",
            "Successfully built wget\n",
            "Installing collected packages: wget\n",
            "Successfully installed wget-3.2\n"
          ],
          "name": "stdout"
        }
      ]
    },
    {
      "cell_type": "code",
      "metadata": {
        "id": "MCAsbfkWtPSI",
        "colab_type": "code",
        "colab": {}
      },
      "source": [
        "from whoosh import index, writing\n",
        "from whoosh.fields import Schema, TEXT, KEYWORD, ID, STORED\n",
        "from whoosh.analysis import *\n",
        "from whoosh.qparser import QueryParser\n",
        "import os.path\n",
        "from pathlib import Path\n",
        "import tempfile\n",
        "import subprocess\n",
        "import pytrec_eval\n",
        "import wget"
      ],
      "execution_count": 5,
      "outputs": []
    },
    {
      "cell_type": "code",
      "metadata": {
        "id": "Wainrob5xE7q",
        "colab_type": "code",
        "colab": {}
      },
      "source": [
        "filename = wget.download(\"https://github.com/MIE451-1513-2019/course-datasets/raw/master/lab-data.zip\", \"lab-data.zip\")"
      ],
      "execution_count": 6,
      "outputs": []
    },
    {
      "cell_type": "code",
      "metadata": {
        "id": "dPAKDGnYu5F8",
        "colab_type": "code",
        "colab": {
          "base_uri": "https://localhost:8080/",
          "height": 283
        },
        "outputId": "41b40988-6287-4d50-8889-6a149b0c9bd0"
      },
      "source": [
        "!unzip lab-data.zip"
      ],
      "execution_count": 7,
      "outputs": [
        {
          "output_type": "stream",
          "text": [
            "Archive:  lab-data.zip\n",
            "   creating: lab-data/\n",
            "  inflating: lab-data/air.topics     \n",
            "   creating: lab-data/documents/\n",
            "  inflating: lab-data/documents/email05  \n",
            "  inflating: lab-data/documents/email02  \n",
            "  inflating: lab-data/documents/email03  \n",
            "  inflating: lab-data/documents/email04  \n",
            "  inflating: lab-data/documents/email10  \n",
            "  inflating: lab-data/documents/email08  \n",
            "  inflating: lab-data/documents/email01  \n",
            "  inflating: lab-data/documents/email06  \n",
            "  inflating: lab-data/documents/email07  \n",
            "  inflating: lab-data/documents/email09  \n",
            "  inflating: lab-data/documents/email14  \n",
            "  inflating: lab-data/air.qrels      \n"
          ],
          "name": "stdout"
        }
      ]
    },
    {
      "cell_type": "code",
      "metadata": {
        "id": "1Hu7KjtPtPSL",
        "colab_type": "code",
        "colab": {}
      },
      "source": [
        "DATA_DIR = \"lab-data\"\n",
        "DOCUMENTS_DIR = os.path.join(DATA_DIR, \"documents\")\n",
        "TOPIC_FILE = os.path.join(DATA_DIR, \"air.topics\")\n",
        "QRELS_FILE = os.path.join(DATA_DIR, \"air.qrels\")"
      ],
      "execution_count": 8,
      "outputs": []
    },
    {
      "cell_type": "markdown",
      "metadata": {
        "id": "kifl9NW4tPSO",
        "colab_type": "text"
      },
      "source": [
        "## Part 1: Basic Indexing"
      ]
    },
    {
      "cell_type": "markdown",
      "metadata": {
        "id": "UMkIZH6wtPSP",
        "colab_type": "text"
      },
      "source": [
        "### Creating the index"
      ]
    },
    {
      "cell_type": "markdown",
      "metadata": {
        "id": "LddgarTcFnGS",
        "colab_type": "text"
      },
      "source": [
        "To begin using Whoosh, you need an index object. The first time you create an index, you must define the index’s schema. The schema lists the fields in the index. A field is a piece of information for each document in the index, such as its title or text content. A field can be indexed (meaning it can be searched) and/or stored (meaning the value that gets indexed is returned with the results; this is useful for fields such as the title).\n",
        "\n",
        "More information:\n",
        "https://whoosh.readthedocs.io/en/latest/schema.html?highlight=schema"
      ]
    },
    {
      "cell_type": "code",
      "metadata": {
        "id": "AqMbeQ-otPSR",
        "colab_type": "code",
        "colab": {}
      },
      "source": [
        "def createIndex(schema):\n",
        "    # Generate a temporary directory for the index\n",
        "    indexDir = tempfile.mkdtemp()\n",
        "\n",
        "    # create and return the index\n",
        "    return index.create_in(indexDir, schema)"
      ],
      "execution_count": 9,
      "outputs": []
    },
    {
      "cell_type": "code",
      "metadata": {
        "id": "qFpIvO8NtPST",
        "colab_type": "code",
        "colab": {}
      },
      "source": [
        "# first, define a Schema for the index\n",
        "mySchema = Schema(file_path = ID(stored=True),\n",
        "                  file_content = TEXT(analyzer = RegexTokenizer()))\n",
        "\n",
        "# now, create the index at the path INDEX_DIR based on the new schema\n",
        "myIndex = createIndex(mySchema)"
      ],
      "execution_count": 10,
      "outputs": []
    },
    {
      "cell_type": "markdown",
      "metadata": {
        "id": "COQ5Pn_ntPSW",
        "colab_type": "text"
      },
      "source": [
        "### Indexing the documents"
      ]
    },
    {
      "cell_type": "code",
      "metadata": {
        "id": "pBBnPXM0tPSW",
        "colab_type": "code",
        "colab": {}
      },
      "source": [
        "def addFilesToIndex(indexObj, fileList):\n",
        "    # open writer\n",
        "    writer = writing.BufferedWriter(indexObj, period=None, limit=1000)\n",
        "\n",
        "    try:\n",
        "        # write each file to index\n",
        "        for docNum, filePath in enumerate(fileList):\n",
        "            with open(filePath, \"r\", encoding=\"utf-8\") as f:\n",
        "                fileContent = f.read()\n",
        "                writer.add_document(file_path = filePath,\n",
        "                                    file_content = fileContent)\n",
        "\n",
        "                # print status every 1000 documents\n",
        "                if (docNum+1) % 1000 == 0:\n",
        "                    print(\"already indexed:\", docNum+1)\n",
        "        print(\"done indexing.\")\n",
        "\n",
        "    finally:\n",
        "        # close the index\n",
        "        writer.close()"
      ],
      "execution_count": 11,
      "outputs": []
    },
    {
      "cell_type": "code",
      "metadata": {
        "id": "a60nMMFAtPSZ",
        "colab_type": "code",
        "colab": {}
      },
      "source": [
        "# Build a list of files to index\n",
        "filesToIndex = [str(filePath) for filePath in Path(DOCUMENTS_DIR).glob(\"**/*\") if filePath.is_file()]"
      ],
      "execution_count": 12,
      "outputs": []
    },
    {
      "cell_type": "code",
      "metadata": {
        "id": "ipB2OTnbtPSb",
        "colab_type": "code",
        "colab": {
          "base_uri": "https://localhost:8080/",
          "height": 100
        },
        "outputId": "b3ab6c9f-cc8f-401f-f895-25c374768987"
      },
      "source": [
        "# Check the list\n",
        "filesToIndex[:5]"
      ],
      "execution_count": 13,
      "outputs": [
        {
          "output_type": "execute_result",
          "data": {
            "text/plain": [
              "['lab-data/documents/email03',\n",
              " 'lab-data/documents/email01',\n",
              " 'lab-data/documents/email08',\n",
              " 'lab-data/documents/email02',\n",
              " 'lab-data/documents/email09']"
            ]
          },
          "metadata": {
            "tags": []
          },
          "execution_count": 13
        }
      ]
    },
    {
      "cell_type": "code",
      "metadata": {
        "id": "2DfEVecutPSd",
        "colab_type": "code",
        "colab": {
          "base_uri": "https://localhost:8080/",
          "height": 33
        },
        "outputId": "517e81d5-61ff-47c0-b35b-a90a91f3c870"
      },
      "source": [
        "# count files to index\n",
        "print(\"number of files:\", len(filesToIndex))"
      ],
      "execution_count": 14,
      "outputs": [
        {
          "output_type": "stream",
          "text": [
            "number of files: 11\n"
          ],
          "name": "stdout"
        }
      ]
    },
    {
      "cell_type": "code",
      "metadata": {
        "id": "sGbkPnCxtPSh",
        "colab_type": "code",
        "colab": {
          "base_uri": "https://localhost:8080/",
          "height": 33
        },
        "outputId": "9d5771cd-aad2-4fe0-c8c1-6284c5f39f73"
      },
      "source": [
        "addFilesToIndex(myIndex, filesToIndex)"
      ],
      "execution_count": 15,
      "outputs": [
        {
          "output_type": "stream",
          "text": [
            "done indexing.\n"
          ],
          "name": "stdout"
        }
      ]
    },
    {
      "cell_type": "markdown",
      "metadata": {
        "id": "e4w4Xs8htPSm",
        "colab_type": "text"
      },
      "source": [
        "### Querying"
      ]
    },
    {
      "cell_type": "markdown",
      "metadata": {
        "id": "kvvTIO9BJAF5",
        "colab_type": "text"
      },
      "source": [
        "More information: https://whoosh.readthedocs.io/en/latest/api/qparser.html?highlight=queryparser"
      ]
    },
    {
      "cell_type": "code",
      "metadata": {
        "id": "r-myzyp8tPSn",
        "colab_type": "code",
        "colab": {}
      },
      "source": [
        "# define a query parser for the field \"file_content\" in the index\n",
        "myQueryParser = QueryParser(\"file_content\", schema=myIndex.schema)\n",
        "mySearcher = myIndex.searcher()"
      ],
      "execution_count": 16,
      "outputs": []
    },
    {
      "cell_type": "code",
      "metadata": {
        "id": "_x9Bm1F4tPSr",
        "colab_type": "code",
        "colab": {}
      },
      "source": [
        "# run a sample query for the phrase \"item\"\n",
        "sampleQuery = myQueryParser.parse(\"duck\")\n",
        "sampleQueryResults = mySearcher.search(sampleQuery, limit=None)"
      ],
      "execution_count": 22,
      "outputs": []
    },
    {
      "cell_type": "code",
      "metadata": {
        "id": "vE0g4G9ZJbdY",
        "colab_type": "code",
        "colab": {
          "base_uri": "https://localhost:8080/",
          "height": 33
        },
        "outputId": "bf094ebe-0dce-4411-e355-625587a2f9b9"
      },
      "source": [
        "sampleQuery"
      ],
      "execution_count": 23,
      "outputs": [
        {
          "output_type": "execute_result",
          "data": {
            "text/plain": [
              "Term('file_content', 'duck')"
            ]
          },
          "metadata": {
            "tags": []
          },
          "execution_count": 23
        }
      ]
    },
    {
      "cell_type": "code",
      "metadata": {
        "id": "pSZobtNCJpvE",
        "colab_type": "code",
        "colab": {
          "base_uri": "https://localhost:8080/",
          "height": 33
        },
        "outputId": "2e490cb0-dca8-44de-b4d0-590b70c0ad6d"
      },
      "source": [
        "sampleQueryResults"
      ],
      "execution_count": 24,
      "outputs": [
        {
          "output_type": "execute_result",
          "data": {
            "text/plain": [
              "<Top 2 Results for Term('file_content', 'duck') runtime=0.0006261990001803497>"
            ]
          },
          "metadata": {
            "tags": []
          },
          "execution_count": 24
        }
      ]
    },
    {
      "cell_type": "code",
      "metadata": {
        "id": "TtHIowDvJorC",
        "colab_type": "code",
        "colab": {
          "base_uri": "https://localhost:8080/",
          "height": 50
        },
        "outputId": "88719afb-b4da-4837-d0cf-169367356a0c"
      },
      "source": [
        "# inspect the result:\n",
        "# for each document print the rank and the score\n",
        "for (docnum, result) in enumerate(sampleQueryResults):\n",
        "    score = sampleQueryResults.score(docnum)\n",
        "    fileName = os.path.basename(result[\"file_path\"])\n",
        "    print(fileName, docnum, score)"
      ],
      "execution_count": 25,
      "outputs": [
        {
          "output_type": "stream",
          "text": [
            "email06 0 3.8267972898082365\n",
            "email04 1 2.2736898161091434\n"
          ],
          "name": "stdout"
        }
      ]
    },
    {
      "cell_type": "markdown",
      "metadata": {
        "id": "u6LqtfpJtPSt",
        "colab_type": "text"
      },
      "source": [
        "### Evaluation using TREC_EVAL\n",
        "In order to evaluate our results we will use a topic file - a list of topics we use to evaluate our IR system"
      ]
    },
    {
      "cell_type": "code",
      "metadata": {
        "id": "SphLDVwKtPSt",
        "colab_type": "code",
        "colab": {
          "base_uri": "https://localhost:8080/",
          "height": 133
        },
        "outputId": "f0ee33b4-2be1-4e36-c53d-024298f0105a"
      },
      "source": [
        "# print the topic file\n",
        "with open(TOPIC_FILE, \"r\") as f:\n",
        "    print(f.read())"
      ],
      "execution_count": 26,
      "outputs": [
        {
          "output_type": "stream",
          "text": [
            "01 ducks\n",
            "02 ig nobel prizes\n",
            "03 mathematics\n",
            "04 flowing hair\n",
            "05 music\n",
            "06 AIR TV\n",
            "\n"
          ],
          "name": "stdout"
        }
      ]
    },
    {
      "cell_type": "markdown",
      "metadata": {
        "id": "Q_OU8GB7tPSw",
        "colab_type": "text"
      },
      "source": [
        "We will compare our evaluate our results with a set of judged results(qrels file) using TREC_EVAL "
      ]
    },
    {
      "cell_type": "code",
      "metadata": {
        "id": "d7Y-OiZltPSw",
        "colab_type": "code",
        "colab": {
          "base_uri": "https://localhost:8080/",
          "height": 200
        },
        "outputId": "0ad7c002-50c1-4cd7-91f8-73c21f996fb9"
      },
      "source": [
        "# print the first 10 lines in the qrels file\n",
        "with open(QRELS_FILE, \"r\") as f:\n",
        "    qrels10 = f.readlines()[:10]\n",
        "    print(\"\".join(qrels10))"
      ],
      "execution_count": 27,
      "outputs": [
        {
          "output_type": "stream",
          "text": [
            "01 0 email01 0\n",
            "01 0 email02 0\n",
            "01 0 email03 0\n",
            "01 0 email04 1\n",
            "01 0 email05 1\n",
            "01 0 email06 1\n",
            "01 0 email07 0\n",
            "01 0 email08 0\n",
            "01 0 email09 0\n",
            "01 0 email10 0\n",
            "\n"
          ],
          "name": "stdout"
        }
      ]
    },
    {
      "cell_type": "markdown",
      "metadata": {
        "id": "5WQrUM9htPSz",
        "colab_type": "text"
      },
      "source": [
        "The follwing function takes a topic file, a qrels file, a query parser and a searcher and use pytrec_eval to compare our results with the provided qrels file (see assignment PDF for more details)"
      ]
    },
    {
      "cell_type": "code",
      "metadata": {
        "id": "jOl24QqnRvQY",
        "colab_type": "code",
        "colab": {}
      },
      "source": [
        "def pyTrecEval(topicFile, qrelsFile, queryParser, searcher):\n",
        "    # Load topic file - a list of topics(search phrases) used for evalutation\n",
        "    with open(topicFile, \"r\") as tf:\n",
        "        topics = tf.read().splitlines()\n",
        "\n",
        "    # create an output file to which we'll write our results\n",
        "    tempOutputFile = tempfile.mkstemp()[1]\n",
        "    with open(tempOutputFile, \"w\") as outputTRECFile:\n",
        "        # for each evaluated topic:\n",
        "        # build a query and record the results in the file in TREC_EVAL format\n",
        "        for topic in topics:\n",
        "            topic_id, topic_phrase = tuple(topic.split(\" \", 1))\n",
        "            #print(topic_id, topic_phrase)\n",
        "            topicQuery = queryParser.parse(topic_phrase)\n",
        "            topicResults = searcher.search(topicQuery, limit=None)\n",
        "            for (docnum, result) in enumerate(topicResults):\n",
        "                score = topicResults.score(docnum)\n",
        "                #print(\"%s Q0 %s %d %lf test\\n\" % (topic_id, os.path.basename(result[\"file_path\"]), docnum, score))\n",
        "                outputTRECFile.write(\"%s Q0 %s %d %lf test\\n\" % (topic_id, os.path.basename(result[\"file_path\"]), docnum, score))\n",
        "    with open(qrelsFile, 'r') as f_qrel:\n",
        "        qrel = pytrec_eval.parse_qrel(f_qrel)\n",
        "\n",
        "    with open(tempOutputFile, 'r') as f_run:\n",
        "        run = pytrec_eval.parse_run(f_run)\n",
        "\n",
        "    evaluator = pytrec_eval.RelevanceEvaluator(\n",
        "        qrel, pytrec_eval.supported_measures)\n",
        "\n",
        "    results = evaluator.evaluate(run)\n",
        "    def print_line(measure, scope, value):\n",
        "        print('{:25s}{:8s}{:.4f}'.format(measure, scope, value))\n",
        "\n",
        "    for query_id, query_measures in results.items():\n",
        "        for measure, value in query_measures.items():\n",
        "            if measure == \"runid\":\n",
        "              continue\n",
        "            print_line(measure, query_id, value)\n",
        "    for measure in query_measures.keys():\n",
        "        if measure == \"runid\":\n",
        "              continue\n",
        "        print_line(\n",
        "            measure,\n",
        "            'all',\n",
        "            pytrec_eval.compute_aggregated_measure(\n",
        "                measure,\n",
        "                [query_measures[measure]\n",
        "                 for query_measures in results.values()]))"
      ],
      "execution_count": null,
      "outputs": []
    },
    {
      "cell_type": "code",
      "metadata": {
        "id": "Oz9wA8WbSHCE",
        "colab_type": "code",
        "colab": {
          "base_uri": "https://localhost:8080/",
          "height": 1000
        },
        "outputId": "6219d8c0-c814-42d0-ff3d-e67521bd02db"
      },
      "source": [
        "pyTrecEval(TOPIC_FILE, QRELS_FILE, myQueryParser, mySearcher) "
      ],
      "execution_count": null,
      "outputs": [
        {
          "output_type": "stream",
          "text": [
            "num_q                    01      1.0000\n",
            "num_ret                  01      1.0000\n",
            "num_rel                  01      3.0000\n",
            "num_rel_ret              01      1.0000\n",
            "map                      01      0.3333\n",
            "gm_map                   01      -1.0986\n",
            "Rprec                    01      0.3333\n",
            "bpref                    01      0.3333\n",
            "recip_rank               01      1.0000\n",
            "iprec_at_recall_0.00     01      1.0000\n",
            "iprec_at_recall_0.10     01      1.0000\n",
            "iprec_at_recall_0.20     01      1.0000\n",
            "iprec_at_recall_0.30     01      1.0000\n",
            "iprec_at_recall_0.40     01      0.0000\n",
            "iprec_at_recall_0.50     01      0.0000\n",
            "iprec_at_recall_0.60     01      0.0000\n",
            "iprec_at_recall_0.70     01      0.0000\n",
            "iprec_at_recall_0.80     01      0.0000\n",
            "iprec_at_recall_0.90     01      0.0000\n",
            "iprec_at_recall_1.00     01      0.0000\n",
            "P_5                      01      0.2000\n",
            "P_10                     01      0.1000\n",
            "P_15                     01      0.0667\n",
            "P_20                     01      0.0500\n",
            "P_30                     01      0.0333\n",
            "P_100                    01      0.0100\n",
            "P_200                    01      0.0050\n",
            "P_500                    01      0.0020\n",
            "P_1000                   01      0.0010\n",
            "relstring                01      0.0000\n",
            "recall_5                 01      0.3333\n",
            "recall_10                01      0.3333\n",
            "recall_15                01      0.3333\n",
            "recall_20                01      0.3333\n",
            "recall_30                01      0.3333\n",
            "recall_100               01      0.3333\n",
            "recall_200               01      0.3333\n",
            "recall_500               01      0.3333\n",
            "recall_1000              01      0.3333\n",
            "infAP                    01      0.3333\n",
            "gm_bpref                 01      -1.0986\n",
            "Rprec_mult_0.20          01      1.0000\n",
            "Rprec_mult_0.40          01      0.5000\n",
            "Rprec_mult_0.60          01      0.5000\n",
            "Rprec_mult_0.80          01      0.3333\n",
            "Rprec_mult_1.00          01      0.3333\n",
            "Rprec_mult_1.20          01      0.2500\n",
            "Rprec_mult_1.40          01      0.2000\n",
            "Rprec_mult_1.60          01      0.2000\n",
            "Rprec_mult_1.80          01      0.1667\n",
            "Rprec_mult_2.00          01      0.1667\n",
            "utility                  01      1.0000\n",
            "11pt_avg                 01      0.3636\n",
            "binG                     01      0.3333\n",
            "G                        01      0.3333\n",
            "ndcg                     01      0.4693\n",
            "ndcg_rel                 01      0.6462\n",
            "Rndcg                    01      0.4693\n",
            "ndcg_cut_5               01      0.4693\n",
            "ndcg_cut_10              01      0.4693\n",
            "ndcg_cut_15              01      0.4693\n",
            "ndcg_cut_20              01      0.4693\n",
            "ndcg_cut_30              01      0.4693\n",
            "ndcg_cut_100             01      0.4693\n",
            "ndcg_cut_200             01      0.4693\n",
            "ndcg_cut_500             01      0.4693\n",
            "ndcg_cut_1000            01      0.4693\n",
            "map_cut_5                01      0.3333\n",
            "map_cut_10               01      0.3333\n",
            "map_cut_15               01      0.3333\n",
            "map_cut_20               01      0.3333\n",
            "map_cut_30               01      0.3333\n",
            "map_cut_100              01      0.3333\n",
            "map_cut_200              01      0.3333\n",
            "map_cut_500              01      0.3333\n",
            "map_cut_1000             01      0.3333\n",
            "relative_P_5             01      0.3333\n",
            "relative_P_10            01      0.3333\n",
            "relative_P_15            01      0.3333\n",
            "relative_P_20            01      0.3333\n",
            "relative_P_30            01      0.3333\n",
            "relative_P_100           01      0.3333\n",
            "relative_P_200           01      0.3333\n",
            "relative_P_500           01      0.3333\n",
            "relative_P_1000          01      0.3333\n",
            "success_1                01      1.0000\n",
            "success_5                01      1.0000\n",
            "success_10               01      1.0000\n",
            "set_P                    01      1.0000\n",
            "set_relative_P           01      1.0000\n",
            "set_recall               01      0.3333\n",
            "set_map                  01      0.3333\n",
            "set_F                    01      0.5000\n",
            "num_nonrel_judged_ret    01      0.0000\n",
            "num_q                    05      1.0000\n",
            "num_ret                  05      1.0000\n",
            "num_rel                  05      2.0000\n",
            "num_rel_ret              05      0.0000\n",
            "map                      05      0.0000\n",
            "gm_map                   05      -11.5129\n",
            "Rprec                    05      0.0000\n",
            "bpref                    05      0.0000\n",
            "recip_rank               05      0.0000\n",
            "iprec_at_recall_0.00     05      0.0000\n",
            "iprec_at_recall_0.10     05      0.0000\n",
            "iprec_at_recall_0.20     05      0.0000\n",
            "iprec_at_recall_0.30     05      0.0000\n",
            "iprec_at_recall_0.40     05      0.0000\n",
            "iprec_at_recall_0.50     05      0.0000\n",
            "iprec_at_recall_0.60     05      0.0000\n",
            "iprec_at_recall_0.70     05      0.0000\n",
            "iprec_at_recall_0.80     05      0.0000\n",
            "iprec_at_recall_0.90     05      0.0000\n",
            "iprec_at_recall_1.00     05      0.0000\n",
            "P_5                      05      0.0000\n",
            "P_10                     05      0.0000\n",
            "P_15                     05      0.0000\n",
            "P_20                     05      0.0000\n",
            "P_30                     05      0.0000\n",
            "P_100                    05      0.0000\n",
            "P_200                    05      0.0000\n",
            "P_500                    05      0.0000\n",
            "P_1000                   05      0.0000\n",
            "relstring                05      0.0000\n",
            "recall_5                 05      0.0000\n",
            "recall_10                05      0.0000\n",
            "recall_15                05      0.0000\n",
            "recall_20                05      0.0000\n",
            "recall_30                05      0.0000\n",
            "recall_100               05      0.0000\n",
            "recall_200               05      0.0000\n",
            "recall_500               05      0.0000\n",
            "recall_1000              05      0.0000\n",
            "infAP                    05      0.0000\n",
            "gm_bpref                 05      -11.5129\n",
            "Rprec_mult_0.20          05      0.0000\n",
            "Rprec_mult_0.40          05      0.0000\n",
            "Rprec_mult_0.60          05      0.0000\n",
            "Rprec_mult_0.80          05      0.0000\n",
            "Rprec_mult_1.00          05      0.0000\n",
            "Rprec_mult_1.20          05      0.0000\n",
            "Rprec_mult_1.40          05      0.0000\n",
            "Rprec_mult_1.60          05      0.0000\n",
            "Rprec_mult_1.80          05      0.0000\n",
            "Rprec_mult_2.00          05      0.0000\n",
            "utility                  05      -1.0000\n",
            "11pt_avg                 05      0.0000\n",
            "binG                     05      0.0000\n",
            "G                        05      0.0000\n",
            "ndcg                     05      0.0000\n",
            "ndcg_rel                 05      0.0000\n",
            "Rndcg                    05      0.0000\n",
            "ndcg_cut_5               05      0.0000\n",
            "ndcg_cut_10              05      0.0000\n",
            "ndcg_cut_15              05      0.0000\n",
            "ndcg_cut_20              05      0.0000\n",
            "ndcg_cut_30              05      0.0000\n",
            "ndcg_cut_100             05      0.0000\n",
            "ndcg_cut_200             05      0.0000\n",
            "ndcg_cut_500             05      0.0000\n",
            "ndcg_cut_1000            05      0.0000\n",
            "map_cut_5                05      0.0000\n",
            "map_cut_10               05      0.0000\n",
            "map_cut_15               05      0.0000\n",
            "map_cut_20               05      0.0000\n",
            "map_cut_30               05      0.0000\n",
            "map_cut_100              05      0.0000\n",
            "map_cut_200              05      0.0000\n",
            "map_cut_500              05      0.0000\n",
            "map_cut_1000             05      0.0000\n",
            "relative_P_5             05      0.0000\n",
            "relative_P_10            05      0.0000\n",
            "relative_P_15            05      0.0000\n",
            "relative_P_20            05      0.0000\n",
            "relative_P_30            05      0.0000\n",
            "relative_P_100           05      0.0000\n",
            "relative_P_200           05      0.0000\n",
            "relative_P_500           05      0.0000\n",
            "relative_P_1000          05      0.0000\n",
            "success_1                05      0.0000\n",
            "success_5                05      0.0000\n",
            "success_10               05      0.0000\n",
            "set_P                    05      0.0000\n",
            "set_relative_P           05      0.0000\n",
            "set_recall               05      0.0000\n",
            "set_map                  05      0.0000\n",
            "set_F                    05      0.0000\n",
            "num_nonrel_judged_ret    05      1.0000\n",
            "num_q                    06      1.0000\n",
            "num_ret                  06      3.0000\n",
            "num_rel                  06      2.0000\n",
            "num_rel_ret              06      2.0000\n",
            "map                      06      0.8333\n",
            "gm_map                   06      -0.1823\n",
            "Rprec                    06      0.5000\n",
            "bpref                    06      1.0000\n",
            "recip_rank               06      1.0000\n",
            "iprec_at_recall_0.00     06      1.0000\n",
            "iprec_at_recall_0.10     06      1.0000\n",
            "iprec_at_recall_0.20     06      1.0000\n",
            "iprec_at_recall_0.30     06      1.0000\n",
            "iprec_at_recall_0.40     06      1.0000\n",
            "iprec_at_recall_0.50     06      1.0000\n",
            "iprec_at_recall_0.60     06      0.6667\n",
            "iprec_at_recall_0.70     06      0.6667\n",
            "iprec_at_recall_0.80     06      0.6667\n",
            "iprec_at_recall_0.90     06      0.6667\n",
            "iprec_at_recall_1.00     06      0.6667\n",
            "P_5                      06      0.4000\n",
            "P_10                     06      0.2000\n",
            "P_15                     06      0.1333\n",
            "P_20                     06      0.1000\n",
            "P_30                     06      0.0667\n",
            "P_100                    06      0.0200\n",
            "P_200                    06      0.0100\n",
            "P_500                    06      0.0040\n",
            "P_1000                   06      0.0020\n",
            "relstring                06      0.0000\n",
            "recall_5                 06      1.0000\n",
            "recall_10                06      1.0000\n",
            "recall_15                06      1.0000\n",
            "recall_20                06      1.0000\n",
            "recall_30                06      1.0000\n",
            "recall_100               06      1.0000\n",
            "recall_200               06      1.0000\n",
            "recall_500               06      1.0000\n",
            "recall_1000              06      1.0000\n",
            "infAP                    06      0.8333\n",
            "gm_bpref                 06      0.0000\n",
            "Rprec_mult_0.20          06      1.0000\n",
            "Rprec_mult_0.40          06      1.0000\n",
            "Rprec_mult_0.60          06      0.5000\n",
            "Rprec_mult_0.80          06      0.5000\n",
            "Rprec_mult_1.00          06      0.5000\n",
            "Rprec_mult_1.20          06      0.6667\n",
            "Rprec_mult_1.40          06      0.6667\n",
            "Rprec_mult_1.60          06      0.5000\n",
            "Rprec_mult_1.80          06      0.5000\n",
            "Rprec_mult_2.00          06      0.5000\n",
            "utility                  06      1.0000\n",
            "11pt_avg                 06      0.8485\n",
            "binG                     06      0.8155\n",
            "G                        06      0.8155\n",
            "ndcg                     06      0.9197\n",
            "ndcg_rel                 06      0.9599\n",
            "Rndcg                    06      0.6131\n",
            "ndcg_cut_5               06      0.9197\n",
            "ndcg_cut_10              06      0.9197\n",
            "ndcg_cut_15              06      0.9197\n",
            "ndcg_cut_20              06      0.9197\n",
            "ndcg_cut_30              06      0.9197\n",
            "ndcg_cut_100             06      0.9197\n",
            "ndcg_cut_200             06      0.9197\n",
            "ndcg_cut_500             06      0.9197\n",
            "ndcg_cut_1000            06      0.9197\n",
            "map_cut_5                06      0.8333\n",
            "map_cut_10               06      0.8333\n",
            "map_cut_15               06      0.8333\n",
            "map_cut_20               06      0.8333\n",
            "map_cut_30               06      0.8333\n",
            "map_cut_100              06      0.8333\n",
            "map_cut_200              06      0.8333\n",
            "map_cut_500              06      0.8333\n",
            "map_cut_1000             06      0.8333\n",
            "relative_P_5             06      1.0000\n",
            "relative_P_10            06      1.0000\n",
            "relative_P_15            06      1.0000\n",
            "relative_P_20            06      1.0000\n",
            "relative_P_30            06      1.0000\n",
            "relative_P_100           06      1.0000\n",
            "relative_P_200           06      1.0000\n",
            "relative_P_500           06      1.0000\n",
            "relative_P_1000          06      1.0000\n",
            "success_1                06      1.0000\n",
            "success_5                06      1.0000\n",
            "success_10               06      1.0000\n",
            "set_P                    06      0.6667\n",
            "set_relative_P           06      1.0000\n",
            "set_recall               06      1.0000\n",
            "set_map                  06      0.6667\n",
            "set_F                    06      0.8000\n",
            "num_nonrel_judged_ret    06      0.0000\n",
            "num_q                    all     3.0000\n",
            "num_ret                  all     5.0000\n",
            "num_rel                  all     7.0000\n",
            "num_rel_ret              all     3.0000\n",
            "map                      all     0.3889\n",
            "gm_map                   all     0.0141\n",
            "Rprec                    all     0.2778\n",
            "bpref                    all     0.4444\n",
            "recip_rank               all     0.6667\n",
            "iprec_at_recall_0.00     all     0.6667\n",
            "iprec_at_recall_0.10     all     0.6667\n",
            "iprec_at_recall_0.20     all     0.6667\n",
            "iprec_at_recall_0.30     all     0.6667\n",
            "iprec_at_recall_0.40     all     0.3333\n",
            "iprec_at_recall_0.50     all     0.3333\n",
            "iprec_at_recall_0.60     all     0.2222\n",
            "iprec_at_recall_0.70     all     0.2222\n",
            "iprec_at_recall_0.80     all     0.2222\n",
            "iprec_at_recall_0.90     all     0.2222\n",
            "iprec_at_recall_1.00     all     0.2222\n",
            "P_5                      all     0.2000\n",
            "P_10                     all     0.1000\n",
            "P_15                     all     0.0667\n",
            "P_20                     all     0.0500\n",
            "P_30                     all     0.0333\n",
            "P_100                    all     0.0100\n",
            "P_200                    all     0.0050\n",
            "P_500                    all     0.0020\n",
            "P_1000                   all     0.0010\n",
            "relstring                all     0.0000\n",
            "recall_5                 all     0.4444\n",
            "recall_10                all     0.4444\n",
            "recall_15                all     0.4444\n",
            "recall_20                all     0.4444\n",
            "recall_30                all     0.4444\n",
            "recall_100               all     0.4444\n",
            "recall_200               all     0.4444\n",
            "recall_500               all     0.4444\n",
            "recall_1000              all     0.4444\n",
            "infAP                    all     0.3889\n",
            "gm_bpref                 all     0.0149\n",
            "Rprec_mult_0.20          all     0.6667\n",
            "Rprec_mult_0.40          all     0.5000\n",
            "Rprec_mult_0.60          all     0.3333\n",
            "Rprec_mult_0.80          all     0.2778\n",
            "Rprec_mult_1.00          all     0.2778\n",
            "Rprec_mult_1.20          all     0.3056\n",
            "Rprec_mult_1.40          all     0.2889\n",
            "Rprec_mult_1.60          all     0.2333\n",
            "Rprec_mult_1.80          all     0.2222\n",
            "Rprec_mult_2.00          all     0.2222\n",
            "utility                  all     0.3333\n",
            "11pt_avg                 all     0.4040\n",
            "binG                     all     0.3829\n",
            "G                        all     0.3829\n",
            "ndcg                     all     0.4630\n",
            "ndcg_rel                 all     0.5353\n",
            "Rndcg                    all     0.3608\n",
            "ndcg_cut_5               all     0.4630\n",
            "ndcg_cut_10              all     0.4630\n",
            "ndcg_cut_15              all     0.4630\n",
            "ndcg_cut_20              all     0.4630\n",
            "ndcg_cut_30              all     0.4630\n",
            "ndcg_cut_100             all     0.4630\n",
            "ndcg_cut_200             all     0.4630\n",
            "ndcg_cut_500             all     0.4630\n",
            "ndcg_cut_1000            all     0.4630\n",
            "map_cut_5                all     0.3889\n",
            "map_cut_10               all     0.3889\n",
            "map_cut_15               all     0.3889\n",
            "map_cut_20               all     0.3889\n",
            "map_cut_30               all     0.3889\n",
            "map_cut_100              all     0.3889\n",
            "map_cut_200              all     0.3889\n",
            "map_cut_500              all     0.3889\n",
            "map_cut_1000             all     0.3889\n",
            "relative_P_5             all     0.4444\n",
            "relative_P_10            all     0.4444\n",
            "relative_P_15            all     0.4444\n",
            "relative_P_20            all     0.4444\n",
            "relative_P_30            all     0.4444\n",
            "relative_P_100           all     0.4444\n",
            "relative_P_200           all     0.4444\n",
            "relative_P_500           all     0.4444\n",
            "relative_P_1000          all     0.4444\n",
            "success_1                all     0.6667\n",
            "success_5                all     0.6667\n",
            "success_10               all     0.6667\n",
            "set_P                    all     0.5556\n",
            "set_relative_P           all     0.6667\n",
            "set_recall               all     0.4444\n",
            "set_map                  all     0.3333\n",
            "set_F                    all     0.4333\n",
            "num_nonrel_judged_ret    all     1.0000\n"
          ],
          "name": "stdout"
        }
      ]
    },
    {
      "cell_type": "code",
      "metadata": {
        "id": "o7LMEW83xtiB",
        "colab_type": "code",
        "colab": {}
      },
      "source": [
        "def printRelName(topicFile, qrelsFile, queryParser, searcher, id):\n",
        "  with open(topicFile, \"r\") as tf:\n",
        "        topics = tf.read().splitlines()\n",
        "  for topic in topics:\n",
        "        topic_id, topic_phrase = tuple(topic.split(\" \", 1))\n",
        "        if topic_id == id:\n",
        "          print(\"---------------------------Topic_id and Topic_phrase----------------------------------\")\n",
        "          print(topic_id, topic_phrase)\n",
        "          topicQuery = queryParser.parse(topic_phrase)\n",
        "          topicResults = searcher.search(topicQuery, limit=None)\n",
        "          print(\"---------------------------Return documents----------------------------------\")\n",
        "          for (docnum, result) in enumerate(topicResults):\n",
        "              score = topicResults.score(docnum)\n",
        "              print(\"%s Q0 %s %d %lf test\" % (topic_id, os.path.basename(result[\"file_path\"]), docnum, score))\n",
        "          print(\"---------------------------Relevant documents----------------------------------\")\n",
        "          with open(qrelsFile, 'r') as f_qrel:\n",
        "            qrels = f_qrel.readlines()\n",
        "            for i in qrels:\n",
        "              qid, _, doc, rel = i.rstrip().split(\" \")\n",
        "              if qid == id and rel == \"1\":\n",
        "                print(i.rstrip())"
      ],
      "execution_count": null,
      "outputs": []
    },
    {
      "cell_type": "code",
      "metadata": {
        "id": "nshKlvO8xv4g",
        "colab_type": "code",
        "colab": {
          "base_uri": "https://localhost:8080/",
          "height": 153
        },
        "outputId": "a511b3c1-2793-41b6-81f3-bd3385398efb"
      },
      "source": [
        "printRelName(TOPIC_FILE, QRELS_FILE, myQueryParser, mySearcher, \"01\")"
      ],
      "execution_count": null,
      "outputs": [
        {
          "output_type": "stream",
          "text": [
            "---------------------------Topic_id and Topic_phrase----------------------------------\n",
            "01 ducks\n",
            "---------------------------Return documents----------------------------------\n",
            "01 Q0 email06 0 2.601436 test\n",
            "---------------------------Relevant documents----------------------------------\n",
            "01 0 email04 1\n",
            "01 0 email05 1\n",
            "01 0 email06 1\n"
          ],
          "name": "stdout"
        }
      ]
    },
    {
      "cell_type": "markdown",
      "metadata": {
        "id": "hehQMz-NtPS6",
        "colab_type": "text"
      },
      "source": [
        "## Part 2: Evaluating different configurations"
      ]
    },
    {
      "cell_type": "markdown",
      "metadata": {
        "id": "lRb5SpIdtPS7",
        "colab_type": "text"
      },
      "source": [
        "### Inspecting our index"
      ]
    },
    {
      "cell_type": "code",
      "metadata": {
        "id": "yimuRBkqtPS8",
        "colab_type": "code",
        "colab": {
          "base_uri": "https://localhost:8080/",
          "height": 51
        },
        "outputId": "a90af26e-ceaf-4516-b113-a14e7da9b41e"
      },
      "source": [
        "# Is it empty?\n",
        "print(\"Index is empty?\", myIndex.is_empty())\n",
        "\n",
        "# How many files indexed?\n",
        "print(\"Number of indexed files:\", myIndex.doc_count())"
      ],
      "execution_count": null,
      "outputs": [
        {
          "output_type": "stream",
          "text": [
            "Index is empty? False\n",
            "Number of indexed files: 11\n"
          ],
          "name": "stdout"
        }
      ]
    },
    {
      "cell_type": "code",
      "metadata": {
        "id": "pVgYyGCXtPS-",
        "colab_type": "code",
        "colab": {}
      },
      "source": [
        "# define a reader object on the index\n",
        "myReader = myIndex.reader()"
      ],
      "execution_count": null,
      "outputs": []
    },
    {
      "cell_type": "code",
      "metadata": {
        "id": "_PdtE24ctPTD",
        "colab_type": "code",
        "colab": {
          "base_uri": "https://localhost:8080/",
          "height": 102
        },
        "outputId": "4b53796d-135d-427d-dab0-d1452aaa304a"
      },
      "source": [
        "# print first 5 indexed documents\n",
        "[(docnum, doc_dict) for (docnum, doc_dict) in myReader.iter_docs()][0:5]"
      ],
      "execution_count": null,
      "outputs": [
        {
          "output_type": "execute_result",
          "data": {
            "text/plain": [
              "[(0, {'file_path': 'lab-data/documents/email06'}),\n",
              " (1, {'file_path': 'lab-data/documents/email02'}),\n",
              " (2, {'file_path': 'lab-data/documents/email07'}),\n",
              " (3, {'file_path': 'lab-data/documents/email05'}),\n",
              " (4, {'file_path': 'lab-data/documents/email04'})]"
            ]
          },
          "metadata": {
            "tags": []
          },
          "execution_count": 23
        }
      ]
    },
    {
      "cell_type": "code",
      "metadata": {
        "id": "JhVLFv81tPTH",
        "colab_type": "code",
        "colab": {
          "base_uri": "https://localhost:8080/",
          "height": 442
        },
        "outputId": "8b59d97c-6b30-49bc-d00f-aa5e44e3d11f"
      },
      "source": [
        "# list indexed terms for field \"file_content\"\n",
        "[term for term in myReader.field_terms(\"file_content\")][1000:1025]"
      ],
      "execution_count": null,
      "outputs": [
        {
          "output_type": "execute_result",
          "data": {
            "text/plain": [
              "['Care',\n",
              " 'Carlos',\n",
              " 'Carmen',\n",
              " 'Carnivalesque',\n",
              " 'Carolina',\n",
              " 'Case',\n",
              " 'Cat',\n",
              " 'Catalysis',\n",
              " 'Catalyst',\n",
              " 'Catchers',\n",
              " 'Cater',\n",
              " 'Caused',\n",
              " 'Caveat',\n",
              " 'CbZF1d0021swQuc57kfqHt',\n",
              " 'Cechetto',\n",
              " 'Ceder',\n",
              " 'Celebratory',\n",
              " 'Center',\n",
              " 'Cereal',\n",
              " 'Ceremony',\n",
              " 'Cerrahi',\n",
              " 'Certolizumab',\n",
              " 'Cervical',\n",
              " 'Chair',\n",
              " 'Chalfie']"
            ]
          },
          "metadata": {
            "tags": []
          },
          "execution_count": 24
        }
      ]
    },
    {
      "cell_type": "code",
      "metadata": {
        "id": "3_KS7TeztPTK",
        "colab_type": "code",
        "colab": {
          "base_uri": "https://localhost:8080/",
          "height": 34
        },
        "outputId": "6b23b754-564f-46d7-a435-fdfd75c74792"
      },
      "source": [
        "#how many terms do we have?\n",
        "print(myReader.field_length(\"file_content\"))"
      ],
      "execution_count": null,
      "outputs": [
        {
          "output_type": "stream",
          "text": [
            "29729\n"
          ],
          "name": "stdout"
        }
      ]
    },
    {
      "cell_type": "code",
      "metadata": {
        "id": "lCcAc3zltPTM",
        "colab_type": "code",
        "colab": {
          "base_uri": "https://localhost:8080/",
          "height": 68
        },
        "outputId": "3f08959d-72f7-4069-c4a2-a7682ee610e6"
      },
      "source": [
        "# how many documents have the phares \"bit\", blob\"\n",
        "#   in the field \"file_content\"?\n",
        "print(\"# docs with 'bit'\", myReader.doc_frequency(\"file_content\", \"bit\"))\n",
        "print(\"# docs with 'are'\", myReader.doc_frequency(\"file_content\", \"are\"))\n",
        "print(\"# docs with 'get'\", myReader.doc_frequency(\"file_content\", \"get\"))"
      ],
      "execution_count": null,
      "outputs": [
        {
          "output_type": "stream",
          "text": [
            "# docs with 'bit' 1\n",
            "# docs with 'are' 11\n",
            "# docs with 'get' 6\n"
          ],
          "name": "stdout"
        }
      ]
    },
    {
      "cell_type": "markdown",
      "metadata": {
        "id": "t5RtEaMltPTO",
        "colab_type": "text"
      },
      "source": [
        "### Text Analyzers"
      ]
    },
    {
      "cell_type": "code",
      "metadata": {
        "id": "MryBFZMftPTO",
        "colab_type": "code",
        "colab": {
          "base_uri": "https://localhost:8080/",
          "height": 170
        },
        "outputId": "d7f7fb07-4270-4c5b-d4ce-d893a0ad7d36"
      },
      "source": [
        "# we start with basic tokenizer\n",
        "tokenizer = RegexTokenizer()\n",
        "[token.text for token in tokenizer(\"We are going to do Text Analysis with whoosh.analysis\")]"
      ],
      "execution_count": null,
      "outputs": [
        {
          "output_type": "execute_result",
          "data": {
            "text/plain": [
              "['We',\n",
              " 'are',\n",
              " 'going',\n",
              " 'to',\n",
              " 'do',\n",
              " 'Text',\n",
              " 'Analysis',\n",
              " 'with',\n",
              " 'whoosh.analysis']"
            ]
          },
          "metadata": {
            "tags": []
          },
          "execution_count": 27
        }
      ]
    },
    {
      "cell_type": "code",
      "metadata": {
        "id": "nAqeToZmtPTS",
        "colab_type": "code",
        "colab": {
          "base_uri": "https://localhost:8080/",
          "height": 34
        },
        "outputId": "4e19cef2-2ca0-4c25-aaee-92280b9cb956"
      },
      "source": [
        "# we might want use stemming:\n",
        "stmAnalyzer = RegexTokenizer() | StemFilter()\n",
        "[token.text for token in stmAnalyzer(\"We are going to do Text Analysis with whoosh.analysis\")]"
      ],
      "execution_count": null,
      "outputs": [
        {
          "output_type": "execute_result",
          "data": {
            "text/plain": [
              "['We', 'ar', 'go', 'to', 'do', 'Text', 'Analysi', 'with', 'whoosh.analysi']"
            ]
          },
          "metadata": {
            "tags": []
          },
          "execution_count": 28
        }
      ]
    },
    {
      "cell_type": "code",
      "metadata": {
        "id": "BYtFoYcQtPTX",
        "colab_type": "code",
        "colab": {
          "base_uri": "https://localhost:8080/",
          "height": 34
        },
        "outputId": "e6fda2e3-d5b3-4c1f-c333-67934e5aa8ce"
      },
      "source": [
        "# We probably want to lower-case it\n",
        "# so we add LowercaseFilter\n",
        "stmLwrAnalyzer = RegexTokenizer() | LowercaseFilter() | StemFilter()\n",
        "[token.text for token in stmLwrAnalyzer(\"We are going to do Text Analysis with whoosh.analysis\")]"
      ],
      "execution_count": null,
      "outputs": [
        {
          "output_type": "execute_result",
          "data": {
            "text/plain": [
              "['we', 'ar', 'go', 'to', 'do', 'text', 'analysi', 'with', 'whoosh.analysi']"
            ]
          },
          "metadata": {
            "tags": []
          },
          "execution_count": 29
        }
      ]
    },
    {
      "cell_type": "code",
      "metadata": {
        "id": "PolzmL-ftPTZ",
        "colab_type": "code",
        "colab": {
          "base_uri": "https://localhost:8080/",
          "height": 34
        },
        "outputId": "a35ccdd1-f323-489e-a3b8-ed49b6debea8"
      },
      "source": [
        "# we probably want to ignore words like \"we\", \"are\", \"with\" when we index files\n",
        "# so we add StopFilter to filter stop words\n",
        "stmLwrStpAnalyzer = RegexTokenizer() | LowercaseFilter() | StopFilter() | StemFilter()\n",
        "[token.text for token in stmLwrStpAnalyzer(\"We are going to do Text Analysis with whoosh.analysis\")]"
      ],
      "execution_count": null,
      "outputs": [
        {
          "output_type": "execute_result",
          "data": {
            "text/plain": [
              "['go', 'do', 'text', 'analysi', 'whoosh.analysi']"
            ]
          },
          "metadata": {
            "tags": []
          },
          "execution_count": 30
        }
      ]
    },
    {
      "cell_type": "code",
      "metadata": {
        "id": "jX1lCwGmtPTb",
        "colab_type": "code",
        "colab": {
          "base_uri": "https://localhost:8080/",
          "height": 34
        },
        "outputId": "27ae9370-a730-4686-c021-7ce319c0edc7"
      },
      "source": [
        "# we also probably want to break phrases like \"whoosh.analysis\" into \"whoosh\" and \"analysis\"\n",
        "# so we add IntraWordFilter\n",
        "stmLwrStpIntraAnalyzer = RegexTokenizer() | LowercaseFilter() | IntraWordFilter() | StopFilter() | StemFilter()\n",
        "[token.text for token in stmLwrStpIntraAnalyzer(\"We are going to do Text Analysis with whoosh.analysis\")]"
      ],
      "execution_count": null,
      "outputs": [
        {
          "output_type": "execute_result",
          "data": {
            "text/plain": [
              "['go', 'do', 'text', 'analysi', 'whoosh', 'analysi']"
            ]
          },
          "metadata": {
            "tags": []
          },
          "execution_count": 31
        }
      ]
    },
    {
      "cell_type": "markdown",
      "metadata": {
        "id": "2_8GzxX0tPTd",
        "colab_type": "text"
      },
      "source": [
        "### Evaluating the new analyzers"
      ]
    },
    {
      "cell_type": "code",
      "metadata": {
        "id": "8FlXm9UotPTd",
        "colab_type": "code",
        "colab": {}
      },
      "source": [
        "# define a Schema with the new analyzer\n",
        "mySchema2 = Schema(file_path = ID(stored=True),\n",
        "                   file_content = TEXT(analyzer = stmLwrStpIntraAnalyzer))\n",
        "\n",
        "# create the index based on the new schema\n",
        "myIndex2 = createIndex(mySchema2)"
      ],
      "execution_count": null,
      "outputs": []
    },
    {
      "cell_type": "code",
      "metadata": {
        "id": "52MlF85LtPTh",
        "colab_type": "code",
        "colab": {
          "base_uri": "https://localhost:8080/",
          "height": 34
        },
        "outputId": "e2ee5a2a-a465-4dd9-af3d-51e3373fd11f"
      },
      "source": [
        "addFilesToIndex(myIndex2, filesToIndex)"
      ],
      "execution_count": null,
      "outputs": [
        {
          "output_type": "stream",
          "text": [
            "done indexing.\n"
          ],
          "name": "stdout"
        }
      ]
    },
    {
      "cell_type": "code",
      "metadata": {
        "id": "chy78JJ2tPTk",
        "colab_type": "code",
        "colab": {}
      },
      "source": [
        "# define a query parser for the field \"file_content\" in the index\n",
        "myQueryParser2 = QueryParser(\"file_content\", schema=myIndex2.schema)\n",
        "mySearcher2 = myIndex2.searcher()"
      ],
      "execution_count": null,
      "outputs": []
    },
    {
      "cell_type": "code",
      "metadata": {
        "id": "eHI_RkXstPTn",
        "colab_type": "code",
        "colab": {
          "base_uri": "https://localhost:8080/",
          "height": 1000
        },
        "outputId": "8b3a089f-87e8-48e4-ab37-dfae2115d29d"
      },
      "source": [
        "pyTrecEval(TOPIC_FILE, QRELS_FILE, myQueryParser2, mySearcher2) "
      ],
      "execution_count": null,
      "outputs": [
        {
          "output_type": "stream",
          "text": [
            "num_q                    01      1.0000\n",
            "num_ret                  01      3.0000\n",
            "num_rel                  01      3.0000\n",
            "num_rel_ret              01      3.0000\n",
            "map                      01      1.0000\n",
            "gm_map                   01      0.0000\n",
            "Rprec                    01      1.0000\n",
            "bpref                    01      1.0000\n",
            "recip_rank               01      1.0000\n",
            "iprec_at_recall_0.00     01      1.0000\n",
            "iprec_at_recall_0.10     01      1.0000\n",
            "iprec_at_recall_0.20     01      1.0000\n",
            "iprec_at_recall_0.30     01      1.0000\n",
            "iprec_at_recall_0.40     01      1.0000\n",
            "iprec_at_recall_0.50     01      1.0000\n",
            "iprec_at_recall_0.60     01      1.0000\n",
            "iprec_at_recall_0.70     01      1.0000\n",
            "iprec_at_recall_0.80     01      1.0000\n",
            "iprec_at_recall_0.90     01      1.0000\n",
            "iprec_at_recall_1.00     01      1.0000\n",
            "P_5                      01      0.6000\n",
            "P_10                     01      0.3000\n",
            "P_15                     01      0.2000\n",
            "P_20                     01      0.1500\n",
            "P_30                     01      0.1000\n",
            "P_100                    01      0.0300\n",
            "P_200                    01      0.0150\n",
            "P_500                    01      0.0060\n",
            "P_1000                   01      0.0030\n",
            "relstring                01      0.0000\n",
            "recall_5                 01      1.0000\n",
            "recall_10                01      1.0000\n",
            "recall_15                01      1.0000\n",
            "recall_20                01      1.0000\n",
            "recall_30                01      1.0000\n",
            "recall_100               01      1.0000\n",
            "recall_200               01      1.0000\n",
            "recall_500               01      1.0000\n",
            "recall_1000              01      1.0000\n",
            "infAP                    01      1.0000\n",
            "gm_bpref                 01      0.0000\n",
            "Rprec_mult_0.20          01      1.0000\n",
            "Rprec_mult_0.40          01      1.0000\n",
            "Rprec_mult_0.60          01      1.0000\n",
            "Rprec_mult_0.80          01      1.0000\n",
            "Rprec_mult_1.00          01      1.0000\n",
            "Rprec_mult_1.20          01      0.7500\n",
            "Rprec_mult_1.40          01      0.6000\n",
            "Rprec_mult_1.60          01      0.6000\n",
            "Rprec_mult_1.80          01      0.5000\n",
            "Rprec_mult_2.00          01      0.5000\n",
            "utility                  01      3.0000\n",
            "11pt_avg                 01      1.0000\n",
            "binG                     01      1.0000\n",
            "G                        01      1.0000\n",
            "ndcg                     01      1.0000\n",
            "ndcg_rel                 01      1.0000\n",
            "Rndcg                    01      1.0000\n",
            "ndcg_cut_5               01      1.0000\n",
            "ndcg_cut_10              01      1.0000\n",
            "ndcg_cut_15              01      1.0000\n",
            "ndcg_cut_20              01      1.0000\n",
            "ndcg_cut_30              01      1.0000\n",
            "ndcg_cut_100             01      1.0000\n",
            "ndcg_cut_200             01      1.0000\n",
            "ndcg_cut_500             01      1.0000\n",
            "ndcg_cut_1000            01      1.0000\n",
            "map_cut_5                01      1.0000\n",
            "map_cut_10               01      1.0000\n",
            "map_cut_15               01      1.0000\n",
            "map_cut_20               01      1.0000\n",
            "map_cut_30               01      1.0000\n",
            "map_cut_100              01      1.0000\n",
            "map_cut_200              01      1.0000\n",
            "map_cut_500              01      1.0000\n",
            "map_cut_1000             01      1.0000\n",
            "relative_P_5             01      1.0000\n",
            "relative_P_10            01      1.0000\n",
            "relative_P_15            01      1.0000\n",
            "relative_P_20            01      1.0000\n",
            "relative_P_30            01      1.0000\n",
            "relative_P_100           01      1.0000\n",
            "relative_P_200           01      1.0000\n",
            "relative_P_500           01      1.0000\n",
            "relative_P_1000          01      1.0000\n",
            "success_1                01      1.0000\n",
            "success_5                01      1.0000\n",
            "success_10               01      1.0000\n",
            "set_P                    01      1.0000\n",
            "set_relative_P           01      1.0000\n",
            "set_recall               01      1.0000\n",
            "set_map                  01      1.0000\n",
            "set_F                    01      1.0000\n",
            "num_nonrel_judged_ret    01      0.0000\n",
            "num_q                    02      1.0000\n",
            "num_ret                  02      11.0000\n",
            "num_rel                  02      8.0000\n",
            "num_rel_ret              02      8.0000\n",
            "map                      02      0.9207\n",
            "gm_map                   02      -0.0826\n",
            "Rprec                    02      0.8750\n",
            "bpref                    02      0.7500\n",
            "recip_rank               02      1.0000\n",
            "iprec_at_recall_0.00     02      1.0000\n",
            "iprec_at_recall_0.10     02      1.0000\n",
            "iprec_at_recall_0.20     02      1.0000\n",
            "iprec_at_recall_0.30     02      1.0000\n",
            "iprec_at_recall_0.40     02      1.0000\n",
            "iprec_at_recall_0.50     02      1.0000\n",
            "iprec_at_recall_0.60     02      0.8750\n",
            "iprec_at_recall_0.70     02      0.8750\n",
            "iprec_at_recall_0.80     02      0.8750\n",
            "iprec_at_recall_0.90     02      0.8000\n",
            "iprec_at_recall_1.00     02      0.8000\n",
            "P_5                      02      0.8000\n",
            "P_10                     02      0.8000\n",
            "P_15                     02      0.5333\n",
            "P_20                     02      0.4000\n",
            "P_30                     02      0.2667\n",
            "P_100                    02      0.0800\n",
            "P_200                    02      0.0400\n",
            "P_500                    02      0.0160\n",
            "P_1000                   02      0.0080\n",
            "relstring                02      0.0000\n",
            "recall_5                 02      0.5000\n",
            "recall_10                02      1.0000\n",
            "recall_15                02      1.0000\n",
            "recall_20                02      1.0000\n",
            "recall_30                02      1.0000\n",
            "recall_100               02      1.0000\n",
            "recall_200               02      1.0000\n",
            "recall_500               02      1.0000\n",
            "recall_1000              02      1.0000\n",
            "infAP                    02      0.9207\n",
            "gm_bpref                 02      -0.2877\n",
            "Rprec_mult_0.20          02      1.0000\n",
            "Rprec_mult_0.40          02      1.0000\n",
            "Rprec_mult_0.60          02      0.8000\n",
            "Rprec_mult_0.80          02      0.8571\n",
            "Rprec_mult_1.00          02      0.8750\n",
            "Rprec_mult_1.20          02      0.8000\n",
            "Rprec_mult_1.40          02      0.6667\n",
            "Rprec_mult_1.60          02      0.6154\n",
            "Rprec_mult_1.80          02      0.5333\n",
            "Rprec_mult_2.00          02      0.5000\n",
            "utility                  02      5.0000\n",
            "11pt_avg                 02      0.9295\n",
            "binG                     02      0.7991\n",
            "G                        02      0.7991\n",
            "ndcg                     02      0.9753\n",
            "ndcg_rel                 02      0.9568\n",
            "Rndcg                    02      0.9387\n",
            "ndcg_cut_5               02      0.8688\n",
            "ndcg_cut_10              02      0.9753\n",
            "ndcg_cut_15              02      0.9753\n",
            "ndcg_cut_20              02      0.9753\n",
            "ndcg_cut_30              02      0.9753\n",
            "ndcg_cut_100             02      0.9753\n",
            "ndcg_cut_200             02      0.9753\n",
            "ndcg_cut_500             02      0.9753\n",
            "ndcg_cut_1000            02      0.9753\n",
            "map_cut_5                02      0.5000\n",
            "map_cut_10               02      0.9207\n",
            "map_cut_15               02      0.9207\n",
            "map_cut_20               02      0.9207\n",
            "map_cut_30               02      0.9207\n",
            "map_cut_100              02      0.9207\n",
            "map_cut_200              02      0.9207\n",
            "map_cut_500              02      0.9207\n",
            "map_cut_1000             02      0.9207\n",
            "relative_P_5             02      0.8000\n",
            "relative_P_10            02      1.0000\n",
            "relative_P_15            02      1.0000\n",
            "relative_P_20            02      1.0000\n",
            "relative_P_30            02      1.0000\n",
            "relative_P_100           02      1.0000\n",
            "relative_P_200           02      1.0000\n",
            "relative_P_500           02      1.0000\n",
            "relative_P_1000          02      1.0000\n",
            "success_1                02      1.0000\n",
            "success_5                02      1.0000\n",
            "success_10               02      1.0000\n",
            "set_P                    02      0.7273\n",
            "set_relative_P           02      1.0000\n",
            "set_recall               02      1.0000\n",
            "set_map                  02      0.7273\n",
            "set_F                    02      0.8421\n",
            "num_nonrel_judged_ret    02      2.0000\n",
            "num_q                    03      1.0000\n",
            "num_ret                  03      2.0000\n",
            "num_rel                  03      1.0000\n",
            "num_rel_ret              03      1.0000\n",
            "map                      03      1.0000\n",
            "gm_map                   03      0.0000\n",
            "Rprec                    03      1.0000\n",
            "bpref                    03      1.0000\n",
            "recip_rank               03      1.0000\n",
            "iprec_at_recall_0.00     03      1.0000\n",
            "iprec_at_recall_0.10     03      1.0000\n",
            "iprec_at_recall_0.20     03      1.0000\n",
            "iprec_at_recall_0.30     03      1.0000\n",
            "iprec_at_recall_0.40     03      1.0000\n",
            "iprec_at_recall_0.50     03      1.0000\n",
            "iprec_at_recall_0.60     03      1.0000\n",
            "iprec_at_recall_0.70     03      1.0000\n",
            "iprec_at_recall_0.80     03      1.0000\n",
            "iprec_at_recall_0.90     03      1.0000\n",
            "iprec_at_recall_1.00     03      1.0000\n",
            "P_5                      03      0.2000\n",
            "P_10                     03      0.1000\n",
            "P_15                     03      0.0667\n",
            "P_20                     03      0.0500\n",
            "P_30                     03      0.0333\n",
            "P_100                    03      0.0100\n",
            "P_200                    03      0.0050\n",
            "P_500                    03      0.0020\n",
            "P_1000                   03      0.0010\n",
            "relstring                03      0.0000\n",
            "recall_5                 03      1.0000\n",
            "recall_10                03      1.0000\n",
            "recall_15                03      1.0000\n",
            "recall_20                03      1.0000\n",
            "recall_30                03      1.0000\n",
            "recall_100               03      1.0000\n",
            "recall_200               03      1.0000\n",
            "recall_500               03      1.0000\n",
            "recall_1000              03      1.0000\n",
            "infAP                    03      1.0000\n",
            "gm_bpref                 03      0.0000\n",
            "Rprec_mult_0.20          03      1.0000\n",
            "Rprec_mult_0.40          03      1.0000\n",
            "Rprec_mult_0.60          03      1.0000\n",
            "Rprec_mult_0.80          03      1.0000\n",
            "Rprec_mult_1.00          03      1.0000\n",
            "Rprec_mult_1.20          03      0.5000\n",
            "Rprec_mult_1.40          03      0.5000\n",
            "Rprec_mult_1.60          03      0.5000\n",
            "Rprec_mult_1.80          03      0.5000\n",
            "Rprec_mult_2.00          03      0.5000\n",
            "utility                  03      0.0000\n",
            "11pt_avg                 03      1.0000\n",
            "binG                     03      1.0000\n",
            "G                        03      1.0000\n",
            "ndcg                     03      1.0000\n",
            "ndcg_rel                 03      1.0000\n",
            "Rndcg                    03      1.0000\n",
            "ndcg_cut_5               03      1.0000\n",
            "ndcg_cut_10              03      1.0000\n",
            "ndcg_cut_15              03      1.0000\n",
            "ndcg_cut_20              03      1.0000\n",
            "ndcg_cut_30              03      1.0000\n",
            "ndcg_cut_100             03      1.0000\n",
            "ndcg_cut_200             03      1.0000\n",
            "ndcg_cut_500             03      1.0000\n",
            "ndcg_cut_1000            03      1.0000\n",
            "map_cut_5                03      1.0000\n",
            "map_cut_10               03      1.0000\n",
            "map_cut_15               03      1.0000\n",
            "map_cut_20               03      1.0000\n",
            "map_cut_30               03      1.0000\n",
            "map_cut_100              03      1.0000\n",
            "map_cut_200              03      1.0000\n",
            "map_cut_500              03      1.0000\n",
            "map_cut_1000             03      1.0000\n",
            "relative_P_5             03      1.0000\n",
            "relative_P_10            03      1.0000\n",
            "relative_P_15            03      1.0000\n",
            "relative_P_20            03      1.0000\n",
            "relative_P_30            03      1.0000\n",
            "relative_P_100           03      1.0000\n",
            "relative_P_200           03      1.0000\n",
            "relative_P_500           03      1.0000\n",
            "relative_P_1000          03      1.0000\n",
            "success_1                03      1.0000\n",
            "success_5                03      1.0000\n",
            "success_10               03      1.0000\n",
            "set_P                    03      0.5000\n",
            "set_relative_P           03      1.0000\n",
            "set_recall               03      1.0000\n",
            "set_map                  03      0.5000\n",
            "set_F                    03      0.6667\n",
            "num_nonrel_judged_ret    03      1.0000\n",
            "num_q                    04      1.0000\n",
            "num_ret                  04      8.0000\n",
            "num_rel                  04      5.0000\n",
            "num_rel_ret              04      5.0000\n",
            "map                      04      0.8393\n",
            "gm_map                   04      -0.1752\n",
            "Rprec                    04      0.6000\n",
            "bpref                    04      0.8400\n",
            "recip_rank               04      1.0000\n",
            "iprec_at_recall_0.00     04      1.0000\n",
            "iprec_at_recall_0.10     04      1.0000\n",
            "iprec_at_recall_0.20     04      1.0000\n",
            "iprec_at_recall_0.30     04      1.0000\n",
            "iprec_at_recall_0.40     04      1.0000\n",
            "iprec_at_recall_0.50     04      1.0000\n",
            "iprec_at_recall_0.60     04      1.0000\n",
            "iprec_at_recall_0.70     04      0.6250\n",
            "iprec_at_recall_0.80     04      0.6250\n",
            "iprec_at_recall_0.90     04      0.6250\n",
            "iprec_at_recall_1.00     04      0.6250\n",
            "P_5                      04      0.6000\n",
            "P_10                     04      0.5000\n",
            "P_15                     04      0.3333\n",
            "P_20                     04      0.2500\n",
            "P_30                     04      0.1667\n",
            "P_100                    04      0.0500\n",
            "P_200                    04      0.0250\n",
            "P_500                    04      0.0100\n",
            "P_1000                   04      0.0050\n",
            "relstring                04      0.0000\n",
            "recall_5                 04      0.6000\n",
            "recall_10                04      1.0000\n",
            "recall_15                04      1.0000\n",
            "recall_20                04      1.0000\n",
            "recall_30                04      1.0000\n",
            "recall_100               04      1.0000\n",
            "recall_200               04      1.0000\n",
            "recall_500               04      1.0000\n",
            "recall_1000              04      1.0000\n",
            "infAP                    04      0.8393\n",
            "gm_bpref                 04      -0.1744\n",
            "Rprec_mult_0.20          04      1.0000\n",
            "Rprec_mult_0.40          04      1.0000\n",
            "Rprec_mult_0.60          04      1.0000\n",
            "Rprec_mult_0.80          04      0.7500\n",
            "Rprec_mult_1.00          04      0.6000\n",
            "Rprec_mult_1.20          04      0.5000\n",
            "Rprec_mult_1.40          04      0.5714\n",
            "Rprec_mult_1.60          04      0.6250\n",
            "Rprec_mult_1.80          04      0.5556\n",
            "Rprec_mult_2.00          04      0.5000\n",
            "utility                  04      2.0000\n",
            "11pt_avg                 04      0.8636\n",
            "binG                     04      0.7723\n",
            "G                        04      0.7723\n",
            "ndcg                     04      0.9428\n",
            "ndcg_rel                 04      0.9557\n",
            "Rndcg                    04      0.8327\n",
            "ndcg_cut_5               04      0.7227\n",
            "ndcg_cut_10              04      0.9428\n",
            "ndcg_cut_15              04      0.9428\n",
            "ndcg_cut_20              04      0.9428\n",
            "ndcg_cut_30              04      0.9428\n",
            "ndcg_cut_100             04      0.9428\n",
            "ndcg_cut_200             04      0.9428\n",
            "ndcg_cut_500             04      0.9428\n",
            "ndcg_cut_1000            04      0.9428\n",
            "map_cut_5                04      0.6000\n",
            "map_cut_10               04      0.8393\n",
            "map_cut_15               04      0.8393\n",
            "map_cut_20               04      0.8393\n",
            "map_cut_30               04      0.8393\n",
            "map_cut_100              04      0.8393\n",
            "map_cut_200              04      0.8393\n",
            "map_cut_500              04      0.8393\n",
            "map_cut_1000             04      0.8393\n",
            "relative_P_5             04      0.6000\n",
            "relative_P_10            04      1.0000\n",
            "relative_P_15            04      1.0000\n",
            "relative_P_20            04      1.0000\n",
            "relative_P_30            04      1.0000\n",
            "relative_P_100           04      1.0000\n",
            "relative_P_200           04      1.0000\n",
            "relative_P_500           04      1.0000\n",
            "relative_P_1000          04      1.0000\n",
            "success_1                04      1.0000\n",
            "success_5                04      1.0000\n",
            "success_10               04      1.0000\n",
            "set_P                    04      0.6250\n",
            "set_relative_P           04      1.0000\n",
            "set_recall               04      1.0000\n",
            "set_map                  04      0.6250\n",
            "set_F                    04      0.7692\n",
            "num_nonrel_judged_ret    04      2.0000\n",
            "num_q                    05      1.0000\n",
            "num_ret                  05      2.0000\n",
            "num_rel                  05      2.0000\n",
            "num_rel_ret              05      0.0000\n",
            "map                      05      0.0000\n",
            "gm_map                   05      -11.5129\n",
            "Rprec                    05      0.0000\n",
            "bpref                    05      0.0000\n",
            "recip_rank               05      0.0000\n",
            "iprec_at_recall_0.00     05      0.0000\n",
            "iprec_at_recall_0.10     05      0.0000\n",
            "iprec_at_recall_0.20     05      0.0000\n",
            "iprec_at_recall_0.30     05      0.0000\n",
            "iprec_at_recall_0.40     05      0.0000\n",
            "iprec_at_recall_0.50     05      0.0000\n",
            "iprec_at_recall_0.60     05      0.0000\n",
            "iprec_at_recall_0.70     05      0.0000\n",
            "iprec_at_recall_0.80     05      0.0000\n",
            "iprec_at_recall_0.90     05      0.0000\n",
            "iprec_at_recall_1.00     05      0.0000\n",
            "P_5                      05      0.0000\n",
            "P_10                     05      0.0000\n",
            "P_15                     05      0.0000\n",
            "P_20                     05      0.0000\n",
            "P_30                     05      0.0000\n",
            "P_100                    05      0.0000\n",
            "P_200                    05      0.0000\n",
            "P_500                    05      0.0000\n",
            "P_1000                   05      0.0000\n",
            "relstring                05      0.0000\n",
            "recall_5                 05      0.0000\n",
            "recall_10                05      0.0000\n",
            "recall_15                05      0.0000\n",
            "recall_20                05      0.0000\n",
            "recall_30                05      0.0000\n",
            "recall_100               05      0.0000\n",
            "recall_200               05      0.0000\n",
            "recall_500               05      0.0000\n",
            "recall_1000              05      0.0000\n",
            "infAP                    05      0.0000\n",
            "gm_bpref                 05      -11.5129\n",
            "Rprec_mult_0.20          05      0.0000\n",
            "Rprec_mult_0.40          05      0.0000\n",
            "Rprec_mult_0.60          05      0.0000\n",
            "Rprec_mult_0.80          05      0.0000\n",
            "Rprec_mult_1.00          05      0.0000\n",
            "Rprec_mult_1.20          05      0.0000\n",
            "Rprec_mult_1.40          05      0.0000\n",
            "Rprec_mult_1.60          05      0.0000\n",
            "Rprec_mult_1.80          05      0.0000\n",
            "Rprec_mult_2.00          05      0.0000\n",
            "utility                  05      -2.0000\n",
            "11pt_avg                 05      0.0000\n",
            "binG                     05      0.0000\n",
            "G                        05      0.0000\n",
            "ndcg                     05      0.0000\n",
            "ndcg_rel                 05      0.0000\n",
            "Rndcg                    05      0.0000\n",
            "ndcg_cut_5               05      0.0000\n",
            "ndcg_cut_10              05      0.0000\n",
            "ndcg_cut_15              05      0.0000\n",
            "ndcg_cut_20              05      0.0000\n",
            "ndcg_cut_30              05      0.0000\n",
            "ndcg_cut_100             05      0.0000\n",
            "ndcg_cut_200             05      0.0000\n",
            "ndcg_cut_500             05      0.0000\n",
            "ndcg_cut_1000            05      0.0000\n",
            "map_cut_5                05      0.0000\n",
            "map_cut_10               05      0.0000\n",
            "map_cut_15               05      0.0000\n",
            "map_cut_20               05      0.0000\n",
            "map_cut_30               05      0.0000\n",
            "map_cut_100              05      0.0000\n",
            "map_cut_200              05      0.0000\n",
            "map_cut_500              05      0.0000\n",
            "map_cut_1000             05      0.0000\n",
            "relative_P_5             05      0.0000\n",
            "relative_P_10            05      0.0000\n",
            "relative_P_15            05      0.0000\n",
            "relative_P_20            05      0.0000\n",
            "relative_P_30            05      0.0000\n",
            "relative_P_100           05      0.0000\n",
            "relative_P_200           05      0.0000\n",
            "relative_P_500           05      0.0000\n",
            "relative_P_1000          05      0.0000\n",
            "success_1                05      0.0000\n",
            "success_5                05      0.0000\n",
            "success_10               05      0.0000\n",
            "set_P                    05      0.0000\n",
            "set_relative_P           05      0.0000\n",
            "set_recall               05      0.0000\n",
            "set_map                  05      0.0000\n",
            "set_F                    05      0.0000\n",
            "num_nonrel_judged_ret    05      1.0000\n",
            "num_q                    06      1.0000\n",
            "num_ret                  06      3.0000\n",
            "num_rel                  06      2.0000\n",
            "num_rel_ret              06      2.0000\n",
            "map                      06      0.8333\n",
            "gm_map                   06      -0.1823\n",
            "Rprec                    06      0.5000\n",
            "bpref                    06      1.0000\n",
            "recip_rank               06      1.0000\n",
            "iprec_at_recall_0.00     06      1.0000\n",
            "iprec_at_recall_0.10     06      1.0000\n",
            "iprec_at_recall_0.20     06      1.0000\n",
            "iprec_at_recall_0.30     06      1.0000\n",
            "iprec_at_recall_0.40     06      1.0000\n",
            "iprec_at_recall_0.50     06      1.0000\n",
            "iprec_at_recall_0.60     06      0.6667\n",
            "iprec_at_recall_0.70     06      0.6667\n",
            "iprec_at_recall_0.80     06      0.6667\n",
            "iprec_at_recall_0.90     06      0.6667\n",
            "iprec_at_recall_1.00     06      0.6667\n",
            "P_5                      06      0.4000\n",
            "P_10                     06      0.2000\n",
            "P_15                     06      0.1333\n",
            "P_20                     06      0.1000\n",
            "P_30                     06      0.0667\n",
            "P_100                    06      0.0200\n",
            "P_200                    06      0.0100\n",
            "P_500                    06      0.0040\n",
            "P_1000                   06      0.0020\n",
            "relstring                06      0.0000\n",
            "recall_5                 06      1.0000\n",
            "recall_10                06      1.0000\n",
            "recall_15                06      1.0000\n",
            "recall_20                06      1.0000\n",
            "recall_30                06      1.0000\n",
            "recall_100               06      1.0000\n",
            "recall_200               06      1.0000\n",
            "recall_500               06      1.0000\n",
            "recall_1000              06      1.0000\n",
            "infAP                    06      0.8333\n",
            "gm_bpref                 06      0.0000\n",
            "Rprec_mult_0.20          06      1.0000\n",
            "Rprec_mult_0.40          06      1.0000\n",
            "Rprec_mult_0.60          06      0.5000\n",
            "Rprec_mult_0.80          06      0.5000\n",
            "Rprec_mult_1.00          06      0.5000\n",
            "Rprec_mult_1.20          06      0.6667\n",
            "Rprec_mult_1.40          06      0.6667\n",
            "Rprec_mult_1.60          06      0.5000\n",
            "Rprec_mult_1.80          06      0.5000\n",
            "Rprec_mult_2.00          06      0.5000\n",
            "utility                  06      1.0000\n",
            "11pt_avg                 06      0.8485\n",
            "binG                     06      0.8155\n",
            "G                        06      0.8155\n",
            "ndcg                     06      0.9197\n",
            "ndcg_rel                 06      0.9599\n",
            "Rndcg                    06      0.6131\n",
            "ndcg_cut_5               06      0.9197\n",
            "ndcg_cut_10              06      0.9197\n",
            "ndcg_cut_15              06      0.9197\n",
            "ndcg_cut_20              06      0.9197\n",
            "ndcg_cut_30              06      0.9197\n",
            "ndcg_cut_100             06      0.9197\n",
            "ndcg_cut_200             06      0.9197\n",
            "ndcg_cut_500             06      0.9197\n",
            "ndcg_cut_1000            06      0.9197\n",
            "map_cut_5                06      0.8333\n",
            "map_cut_10               06      0.8333\n",
            "map_cut_15               06      0.8333\n",
            "map_cut_20               06      0.8333\n",
            "map_cut_30               06      0.8333\n",
            "map_cut_100              06      0.8333\n",
            "map_cut_200              06      0.8333\n",
            "map_cut_500              06      0.8333\n",
            "map_cut_1000             06      0.8333\n",
            "relative_P_5             06      1.0000\n",
            "relative_P_10            06      1.0000\n",
            "relative_P_15            06      1.0000\n",
            "relative_P_20            06      1.0000\n",
            "relative_P_30            06      1.0000\n",
            "relative_P_100           06      1.0000\n",
            "relative_P_200           06      1.0000\n",
            "relative_P_500           06      1.0000\n",
            "relative_P_1000          06      1.0000\n",
            "success_1                06      1.0000\n",
            "success_5                06      1.0000\n",
            "success_10               06      1.0000\n",
            "set_P                    06      0.6667\n",
            "set_relative_P           06      1.0000\n",
            "set_recall               06      1.0000\n",
            "set_map                  06      0.6667\n",
            "set_F                    06      0.8000\n",
            "num_nonrel_judged_ret    06      0.0000\n",
            "num_q                    all     6.0000\n",
            "num_ret                  all     29.0000\n",
            "num_rel                  all     21.0000\n",
            "num_rel_ret              all     19.0000\n",
            "map                      all     0.7656\n",
            "gm_map                   all     0.1364\n",
            "Rprec                    all     0.6625\n",
            "bpref                    all     0.7650\n",
            "recip_rank               all     0.8333\n",
            "iprec_at_recall_0.00     all     0.8333\n",
            "iprec_at_recall_0.10     all     0.8333\n",
            "iprec_at_recall_0.20     all     0.8333\n",
            "iprec_at_recall_0.30     all     0.8333\n",
            "iprec_at_recall_0.40     all     0.8333\n",
            "iprec_at_recall_0.50     all     0.8333\n",
            "iprec_at_recall_0.60     all     0.7569\n",
            "iprec_at_recall_0.70     all     0.6944\n",
            "iprec_at_recall_0.80     all     0.6944\n",
            "iprec_at_recall_0.90     all     0.6819\n",
            "iprec_at_recall_1.00     all     0.6819\n",
            "P_5                      all     0.4333\n",
            "P_10                     all     0.3167\n",
            "P_15                     all     0.2111\n",
            "P_20                     all     0.1583\n",
            "P_30                     all     0.1056\n",
            "P_100                    all     0.0317\n",
            "P_200                    all     0.0158\n",
            "P_500                    all     0.0063\n",
            "P_1000                   all     0.0032\n",
            "relstring                all     0.0000\n",
            "recall_5                 all     0.6833\n",
            "recall_10                all     0.8333\n",
            "recall_15                all     0.8333\n",
            "recall_20                all     0.8333\n",
            "recall_30                all     0.8333\n",
            "recall_100               all     0.8333\n",
            "recall_200               all     0.8333\n",
            "recall_500               all     0.8333\n",
            "recall_1000              all     0.8333\n",
            "infAP                    all     0.7655\n",
            "gm_bpref                 all     0.1359\n",
            "Rprec_mult_0.20          all     0.8333\n",
            "Rprec_mult_0.40          all     0.8333\n",
            "Rprec_mult_0.60          all     0.7167\n",
            "Rprec_mult_0.80          all     0.6845\n",
            "Rprec_mult_1.00          all     0.6625\n",
            "Rprec_mult_1.20          all     0.5361\n",
            "Rprec_mult_1.40          all     0.5008\n",
            "Rprec_mult_1.60          all     0.4734\n",
            "Rprec_mult_1.80          all     0.4315\n",
            "Rprec_mult_2.00          all     0.4167\n",
            "utility                  all     1.5000\n",
            "11pt_avg                 all     0.7736\n",
            "binG                     all     0.7311\n",
            "G                        all     0.7311\n",
            "ndcg                     all     0.8063\n",
            "ndcg_rel                 all     0.8121\n",
            "Rndcg                    all     0.7308\n",
            "ndcg_cut_5               all     0.7519\n",
            "ndcg_cut_10              all     0.8063\n",
            "ndcg_cut_15              all     0.8063\n",
            "ndcg_cut_20              all     0.8063\n",
            "ndcg_cut_30              all     0.8063\n",
            "ndcg_cut_100             all     0.8063\n",
            "ndcg_cut_200             all     0.8063\n",
            "ndcg_cut_500             all     0.8063\n",
            "ndcg_cut_1000            all     0.8063\n",
            "map_cut_5                all     0.6556\n",
            "map_cut_10               all     0.7656\n",
            "map_cut_15               all     0.7656\n",
            "map_cut_20               all     0.7656\n",
            "map_cut_30               all     0.7656\n",
            "map_cut_100              all     0.7656\n",
            "map_cut_200              all     0.7656\n",
            "map_cut_500              all     0.7656\n",
            "map_cut_1000             all     0.7656\n",
            "relative_P_5             all     0.7333\n",
            "relative_P_10            all     0.8333\n",
            "relative_P_15            all     0.8333\n",
            "relative_P_20            all     0.8333\n",
            "relative_P_30            all     0.8333\n",
            "relative_P_100           all     0.8333\n",
            "relative_P_200           all     0.8333\n",
            "relative_P_500           all     0.8333\n",
            "relative_P_1000          all     0.8333\n",
            "success_1                all     0.8333\n",
            "success_5                all     0.8333\n",
            "success_10               all     0.8333\n",
            "set_P                    all     0.5865\n",
            "set_relative_P           all     0.8333\n",
            "set_recall               all     0.8333\n",
            "set_map                  all     0.5865\n",
            "set_F                    all     0.6797\n",
            "num_nonrel_judged_ret    all     6.0000\n"
          ],
          "name": "stdout"
        }
      ]
    },
    {
      "cell_type": "code",
      "metadata": {
        "id": "WQa08KoStPTp",
        "colab_type": "code",
        "colab": {
          "base_uri": "https://localhost:8080/",
          "height": 68
        },
        "outputId": "dde3596d-cef1-425d-a4c8-2776b5404c5f"
      },
      "source": [
        "# let count the same words again\n",
        "myReader2 = myIndex2.reader()\n",
        "print(\"# docs with 'bit'\", myReader2.doc_frequency(\"file_content\", \"bit\"))\n",
        "print(\"# docs with 'are'\", myReader2.doc_frequency(\"file_content\", \"are\"))\n",
        "print(\"# docs with 'get'\", myReader2.doc_frequency(\"file_content\", \"get\"))"
      ],
      "execution_count": null,
      "outputs": [
        {
          "output_type": "stream",
          "text": [
            "# docs with 'bit' 11\n",
            "# docs with 'are' 0\n",
            "# docs with 'get' 7\n"
          ],
          "name": "stdout"
        }
      ]
    },
    {
      "cell_type": "markdown",
      "metadata": {
        "id": "286mQai_tPTr",
        "colab_type": "text"
      },
      "source": [
        "**Can you explain the differences?**"
      ]
    },
    {
      "cell_type": "markdown",
      "metadata": {
        "id": "LHxWeV1ltPTr",
        "colab_type": "text"
      },
      "source": [
        "### Using NLTK's stemmers and lemmatizers"
      ]
    },
    {
      "cell_type": "code",
      "metadata": {
        "id": "8QN89h1rtPTs",
        "colab_type": "code",
        "colab": {}
      },
      "source": [
        "import nltk\n",
        "from nltk.stem import *"
      ],
      "execution_count": null,
      "outputs": []
    },
    {
      "cell_type": "code",
      "metadata": {
        "id": "_tAOTINetPTt",
        "colab_type": "code",
        "colab": {
          "base_uri": "https://localhost:8080/",
          "height": 68
        },
        "outputId": "a51f9bc3-a9f4-4fac-e5ae-379b77ef34e8"
      },
      "source": [
        "# download required resources\n",
        "nltk.download(\"wordnet\")"
      ],
      "execution_count": null,
      "outputs": [
        {
          "output_type": "stream",
          "text": [
            "[nltk_data] Downloading package wordnet to /root/nltk_data...\n",
            "[nltk_data]   Unzipping corpora/wordnet.zip.\n"
          ],
          "name": "stdout"
        },
        {
          "output_type": "execute_result",
          "data": {
            "text/plain": [
              "True"
            ]
          },
          "metadata": {
            "tags": []
          },
          "execution_count": 38
        }
      ]
    },
    {
      "cell_type": "code",
      "metadata": {
        "id": "47PMWb54tPTv",
        "colab_type": "code",
        "colab": {}
      },
      "source": [
        "# we'll compare two stemmers and a lemmatizer\n",
        "lrStem = LancasterStemmer()\n",
        "sbStem = SnowballStemmer(\"english\")\n",
        "wnLemm = WordNetLemmatizer()"
      ],
      "execution_count": null,
      "outputs": []
    },
    {
      "cell_type": "code",
      "metadata": {
        "id": "PC01OAIstPTx",
        "colab_type": "code",
        "colab": {}
      },
      "source": [
        "# define a list of words to compare the stemmers on\n",
        "listWords = [\"going\", \"saying\", \"minimize\", \"maximum\", \n",
        "             \"meeting\", \"files\", \"tries\", \"is\", \"are\", \"beautiful\",\n",
        "             \"summarize\", \"better\", \"dogs\", \"phenomena\"]"
      ],
      "execution_count": null,
      "outputs": []
    },
    {
      "cell_type": "code",
      "metadata": {
        "id": "dei5v9GrtPT0",
        "colab_type": "code",
        "colab": {
          "base_uri": "https://localhost:8080/",
          "height": 255
        },
        "outputId": "d3739e97-119b-4c53-f828-885bfe676d62"
      },
      "source": [
        "for word in listWords:\n",
        "    print(\"%15s %15s %15s %15s\" % (lrStem.stem(word),\n",
        "                                   sbStem.stem(word),\n",
        "                                   wnLemm.lemmatize(word),\n",
        "                                   wnLemm.lemmatize(word, 'v')))"
      ],
      "execution_count": null,
      "outputs": [
        {
          "output_type": "stream",
          "text": [
            "          going              go           going              go\n",
            "            say             say          saying             say\n",
            "          minim           minim        minimize        minimize\n",
            "          maxim         maximum         maximum         maximum\n",
            "           meet            meet         meeting            meet\n",
            "            fil            file            file            file\n",
            "            tri             tri             try             try\n",
            "             is              is              is              be\n",
            "             ar             are             are              be\n",
            "         beauty          beauti       beautiful       beautiful\n",
            "           summ          summar       summarize       summarize\n",
            "            bet          better          better          better\n",
            "            dog             dog             dog             dog\n",
            "       phenomen       phenomena      phenomenon       phenomena\n"
          ],
          "name": "stdout"
        }
      ]
    },
    {
      "cell_type": "markdown",
      "metadata": {
        "id": "R6BmsPrntPT3",
        "colab_type": "text"
      },
      "source": [
        "### How to use NLTK stemmers / lemmatizers in Whoosh"
      ]
    },
    {
      "cell_type": "code",
      "metadata": {
        "id": "MXumu_JztPT4",
        "colab_type": "code",
        "colab": {}
      },
      "source": [
        "# Dont change this! Use it as-is in your code\n",
        "# This filter will run for both the index and the query\n",
        "from whoosh.analysis import Filter\n",
        "class CustomFilter(Filter):\n",
        "    is_morph = True\n",
        "    def __init__(self, filterFunc, *args, **kwargs):\n",
        "        self.customFilter = filterFunc\n",
        "        self.args = args\n",
        "        self.kwargs = kwargs\n",
        "    def __eq__(self):\n",
        "        return (other\n",
        "                and self.__class__ is other.__class__)\n",
        "    def __call__(self, tokens):\n",
        "        for t in tokens:\n",
        "            if t.mode == 'query': # if called by query parser\n",
        "                t.text = self.customFilter(t.text, *self.args, **self.kwargs)\n",
        "                yield t\n",
        "            else: # == 'index' if called by indexer\n",
        "                t.text = self.customFilter(t.text, *self.args, **self.kwargs)\n",
        "                yield t"
      ],
      "execution_count": null,
      "outputs": []
    },
    {
      "cell_type": "code",
      "metadata": {
        "id": "q50AgsrmtPT5",
        "colab_type": "code",
        "colab": {
          "base_uri": "https://localhost:8080/",
          "height": 34
        },
        "outputId": "2791560c-f0cb-4d4b-a6b9-3f7f2ac0db56"
      },
      "source": [
        "# Example1: Whoosh filter for NLTK's LancasterStemmer\n",
        "myFilter1 = RegexTokenizer() | CustomFilter(LancasterStemmer().stem)\n",
        "[token.text for token in myFilter1(\"We are going to do Text Analysis with whoosh.analysis\")]"
      ],
      "execution_count": null,
      "outputs": [
        {
          "output_type": "execute_result",
          "data": {
            "text/plain": [
              "['we', 'ar', 'going', 'to', 'do', 'text', 'analys', 'with', 'whoosh.analysis']"
            ]
          },
          "metadata": {
            "tags": []
          },
          "execution_count": 43
        }
      ]
    },
    {
      "cell_type": "code",
      "metadata": {
        "id": "WUWjmhjZtPT7",
        "colab_type": "code",
        "colab": {
          "base_uri": "https://localhost:8080/",
          "height": 170
        },
        "outputId": "0c2786b8-6d35-40b8-c0cc-8f7d32712087"
      },
      "source": [
        "# Example2: Whoosh filter for NLTK's WordNetLemmatizer\n",
        "myFilter2 = RegexTokenizer() | CustomFilter(WordNetLemmatizer().lemmatize)\n",
        "[token.text for token in myFilter2(\"We are going to do Text Analysis with whoosh.analysis\")]"
      ],
      "execution_count": null,
      "outputs": [
        {
          "output_type": "execute_result",
          "data": {
            "text/plain": [
              "['We',\n",
              " 'are',\n",
              " 'going',\n",
              " 'to',\n",
              " 'do',\n",
              " 'Text',\n",
              " 'Analysis',\n",
              " 'with',\n",
              " 'whoosh.analysis']"
            ]
          },
          "metadata": {
            "tags": []
          },
          "execution_count": 44
        }
      ]
    },
    {
      "cell_type": "code",
      "metadata": {
        "id": "okNoDllntPT8",
        "colab_type": "code",
        "colab": {
          "base_uri": "https://localhost:8080/",
          "height": 34
        },
        "outputId": "7f05ba12-461c-4931-f585-209fa8d79c6a"
      },
      "source": [
        "# Example3: Whoosh filter for NLTK's WordNetLemmatizer for verbs\n",
        "myFilter3 = RegexTokenizer() | CustomFilter(WordNetLemmatizer().lemmatize, 'v')\n",
        "[token.text for token in myFilter3(\"We are going to do Text Analysis with whoosh.analysis\")]"
      ],
      "execution_count": null,
      "outputs": [
        {
          "output_type": "execute_result",
          "data": {
            "text/plain": [
              "['We', 'be', 'go', 'to', 'do', 'Text', 'Analysis', 'with', 'whoosh.analysis']"
            ]
          },
          "metadata": {
            "tags": []
          },
          "execution_count": 45
        }
      ]
    },
    {
      "cell_type": "markdown",
      "metadata": {
        "id": "ruhos_p-tPUB",
        "colab_type": "text"
      },
      "source": [
        "You can now use myFilter1/2/3 as part of your Schema\n",
        "\n",
        "------------\n",
        "You can find details of other NLTK Stemmers and Lemmatizers here:\n",
        "\n",
        "http://www.nltk.org/api/nltk.stem.html"
      ]
    },
    {
      "cell_type": "code",
      "metadata": {
        "id": "FhMg_a61tPUC",
        "colab_type": "code",
        "colab": {}
      },
      "source": [
        ""
      ],
      "execution_count": null,
      "outputs": []
    }
  ]
}